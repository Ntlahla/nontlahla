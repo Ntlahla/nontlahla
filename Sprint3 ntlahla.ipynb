{
 "cells": [
  {
   "cell_type": "code",
   "execution_count": 1,
   "metadata": {},
   "outputs": [
    {
     "name": "stdout",
     "output_type": "stream",
     "text": [
      "Requirement already satisfied: mysqlclient in c:\\users\\student-cpt-071\\appdata\\local\\continuum\\anaconda3\\lib\\site-packages (1.4.6)\n",
      "Note: you may need to restart the kernel to use updated packages.\n"
     ]
    }
   ],
   "source": [
    "pip install mysqlclient"
   ]
  },
  {
   "cell_type": "code",
   "execution_count": 2,
   "metadata": {},
   "outputs": [
    {
     "name": "stdout",
     "output_type": "stream",
     "text": [
      "Requirement already satisfied: mysql-connector-python in c:\\users\\student-cpt-071\\appdata\\local\\continuum\\anaconda3\\lib\\site-packages (8.0.19)\n",
      "Requirement already satisfied: dnspython==1.16.0 in c:\\users\\student-cpt-071\\appdata\\local\\continuum\\anaconda3\\lib\\site-packages (from mysql-connector-python) (1.16.0)\n",
      "Requirement already satisfied: protobuf==3.6.1 in c:\\users\\student-cpt-071\\appdata\\local\\continuum\\anaconda3\\lib\\site-packages (from mysql-connector-python) (3.6.1)\n",
      "Requirement already satisfied: six>=1.9 in c:\\users\\student-cpt-071\\appdata\\local\\continuum\\anaconda3\\lib\\site-packages (from protobuf==3.6.1->mysql-connector-python) (1.12.0)\n",
      "Requirement already satisfied: setuptools in c:\\users\\student-cpt-071\\appdata\\local\\continuum\\anaconda3\\lib\\site-packages (from protobuf==3.6.1->mysql-connector-python) (41.4.0)\n",
      "Note: you may need to restart the kernel to use updated packages.\n"
     ]
    }
   ],
   "source": [
    "pip install mysql-connector-python"
   ]
  },
  {
   "cell_type": "code",
   "execution_count": 4,
   "metadata": {},
   "outputs": [
    {
     "name": "stdout",
     "output_type": "stream",
     "text": [
      "Collecting mysql-connector-python-rf\n",
      "  Downloading https://files.pythonhosted.org/packages/21/79/2ff01ab7aa08db3a16b70b990c579c1024c6b2a734263cc7513a758867de/mysql-connector-python-rf-2.2.2.tar.gz (11.9MB)\n",
      "Building wheels for collected packages: mysql-connector-python-rf\n",
      "  Building wheel for mysql-connector-python-rf (setup.py): started\n",
      "  Building wheel for mysql-connector-python-rf (setup.py): finished with status 'done'\n",
      "  Created wheel for mysql-connector-python-rf: filename=mysql_connector_python_rf-2.2.2-cp37-cp37m-win_amd64.whl size=249460 sha256=06a566100451eee02dc9f91441fb10c8019319c1b906aa033a761c66cd6c6162\n",
      "  Stored in directory: C:\\Users\\Student-cpt-071\\AppData\\Local\\pip\\Cache\\wheels\\87\\58\\fb\\d95c84fad7e1bebfed324c13e107ebb08e1997c9226532859a\n",
      "Successfully built mysql-connector-python-rf\n",
      "Installing collected packages: mysql-connector-python-rf\n",
      "Successfully installed mysql-connector-python-rf-2.2.2\n",
      "Note: you may need to restart the kernel to use updated packages.\n"
     ]
    }
   ],
   "source": [
    "pip install mysql-connector-python-rf"
   ]
  },
  {
   "cell_type": "code",
   "execution_count": 6,
   "metadata": {},
   "outputs": [
    {
     "name": "stdout",
     "output_type": "stream",
     "text": [
      "Requirement already satisfied: mysql-connector-python==8.0.11 in c:\\users\\student-cpt-071\\appdata\\local\\continuum\\anaconda3\\lib\\site-packages (8.0.11)\n",
      "Requirement already satisfied: protobuf>=3.0.0 in c:\\users\\student-cpt-071\\appdata\\local\\continuum\\anaconda3\\lib\\site-packages (from mysql-connector-python==8.0.11) (3.6.1)\n",
      "Requirement already satisfied: six>=1.9 in c:\\users\\student-cpt-071\\appdata\\local\\continuum\\anaconda3\\lib\\site-packages (from protobuf>=3.0.0->mysql-connector-python==8.0.11) (1.12.0)\n",
      "Requirement already satisfied: setuptools in c:\\users\\student-cpt-071\\appdata\\local\\continuum\\anaconda3\\lib\\site-packages (from protobuf>=3.0.0->mysql-connector-python==8.0.11) (41.4.0)\n",
      "Note: you may need to restart the kernel to use updated packages.\n"
     ]
    }
   ],
   "source": [
    "pip install mysql-connector-python==8.0.11"
   ]
  },
  {
   "cell_type": "code",
   "execution_count": null,
   "metadata": {},
   "outputs": [],
   "source": []
  }
 ],
 "metadata": {
  "kernelspec": {
   "display_name": "Python 3",
   "language": "python",
   "name": "python3"
  },
  "language_info": {
   "codemirror_mode": {
    "name": "ipython",
    "version": 3
   },
   "file_extension": ".py",
   "mimetype": "text/x-python",
   "name": "python",
   "nbconvert_exporter": "python",
   "pygments_lexer": "ipython3",
   "version": "3.7.4"
  }
 },
 "nbformat": 4,
 "nbformat_minor": 2
}
